{
 "cells": [
  {
   "cell_type": "code",
   "execution_count": 1,
   "id": "41062d8a",
   "metadata": {},
   "outputs": [
    {
     "name": "stdout",
     "output_type": "stream",
     "text": [
      "Python 3.9.12\n"
     ]
    }
   ],
   "source": [
    "import pandas as pd\n",
    "import pickle\n",
    "import seaborn as sns\n",
    "import matplotlib.pyplot as plt\n",
    "from sklearn.feature_extraction import DictVectorizer\n",
    "from sklearn.linear_model import LinearRegression\n",
    "from sklearn.metrics import mean_squared_error\n",
    "\n",
    "!python -V"
   ]
  },
  {
   "cell_type": "code",
   "execution_count": 2,
   "id": "6846251f",
   "metadata": {},
   "outputs": [],
   "source": [
    "def load_data(filename):\n",
    "    df = pd.read_parquet(filename)\n",
    "    return df\n",
    "\n",
    "def compute_duration(df):\n",
    "    # computing the duration of a ride in minutes\n",
    "    df['duration'] = (df['dropOff_datetime'] - df['pickup_datetime'])\n",
    "    df['duration'] = df['duration'].apply(lambda td: td.total_seconds() / 60)\n",
    "\n",
    "    return df\n",
    "\n",
    "def preprocess_data(df_raw):\n",
    "    df = df_raw.copy()\n",
    "    # excluding outliers. keep only the records where the duration is between 1 and 60 minutes (inclusive).\n",
    "    df = df[(df['duration'] >= 1) & (df['duration'] <= 60)]\n",
    "\n",
    "    # Replacing NA values with \"-1\"\n",
    "    df['PUlocationID'] = df.PUlocationID.fillna(-1)\n",
    "    df['DOlocationID'] = df.DOlocationID.fillna(-1)\n",
    "\n",
    "    # changing type to string (categorical variable)\n",
    "    df['PUlocationID'] = df.PUlocationID.astype(str)\n",
    "    df['DOlocationID'] = df.DOlocationID.astype(str)\n",
    "\n",
    "    return df\n",
    "\n",
    "def prepare_features(df_train, df_val, features_cols, target_col):\n",
    "    train_dicts = df_train[features_cols].to_dict(orient='records')\n",
    "    val_dicts = df_val[features_cols].to_dict(orient='records')\n",
    "\n",
    "    dv = DictVectorizer()\n",
    "    \n",
    "    X_train = dv.fit_transform(train_dicts)\n",
    "    y_train = df_train[target_col].values\n",
    "\n",
    "    X_val = dv.transform(val_dicts)\n",
    "    y_val = df_val[target_col].values\n",
    "\n",
    "    return X_train, y_train, X_val, y_val, dv\n",
    "\n",
    "def train_model(X_train, y_train):\n",
    "    model = LinearRegression()\n",
    "    model.fit(X_train, y_train)\n",
    "\n",
    "    return model\n",
    "\n",
    "def evaluate_model(model, X, y):\n",
    "    y_pred = model.predict(X)\n",
    "\n",
    "    return mean_squared_error(y, y_pred, squared=False)\n",
    "\n",
    "def export_model(filename, dv, model):\n",
    "    with open(filename, 'wb') as f_out:\n",
    "        pickle.dump((dv, model), f_out)\n",
    "    \n",
    "    return"
   ]
  },
  {
   "cell_type": "markdown",
   "id": "9ae3712f",
   "metadata": {},
   "source": [
    "### PIPELINE"
   ]
  },
  {
   "cell_type": "code",
   "execution_count": 3,
   "id": "c69d6e9d",
   "metadata": {},
   "outputs": [],
   "source": [
    "df_train_raw = load_data('../data/fhv_tripdata_2021-01.parquet')\n",
    "df_val_raw = load_data('../data/fhv_tripdata_2021-02.parquet')\n",
    "\n",
    "#additional step to answer questions of homework\n",
    "df_train_duration = compute_duration(df_train_raw) \n",
    "df_val_duration = compute_duration(df_val_raw)\n",
    "\n",
    "df_train = preprocess_data(df_train_duration)\n",
    "df_val = preprocess_data(df_val_duration)\n",
    "\n",
    "X_train, y_train, X_val, y_val, dv = prepare_features(df_train, df_val, features_cols=['PUlocationID', 'DOlocationID'], target_col='duration')\n",
    "\n",
    "model = train_model(X_train, y_train)\n",
    "rmse_train = evaluate_model(model, X_train, y_train)\n",
    "rmse_val = evaluate_model(model, X_val, y_val)\n",
    "\n",
    "export_model('../models/trip_duration.pkl', dv, model)"
   ]
  },
  {
   "cell_type": "markdown",
   "id": "554df069",
   "metadata": {},
   "source": [
    "#### Q1: Read the data for January. How many records are there?"
   ]
  },
  {
   "cell_type": "code",
   "execution_count": 5,
   "id": "44818761",
   "metadata": {},
   "outputs": [
    {
     "data": {
      "text/plain": [
       "1154112"
      ]
     },
     "execution_count": 5,
     "metadata": {},
     "output_type": "execute_result"
    }
   ],
   "source": [
    "len(df_train_raw)"
   ]
  },
  {
   "cell_type": "markdown",
   "id": "7b44caf1",
   "metadata": {},
   "source": [
    "#### Q2: What's the average trip duration in January?"
   ]
  },
  {
   "cell_type": "code",
   "execution_count": 6,
   "id": "b69a8e88",
   "metadata": {},
   "outputs": [
    {
     "data": {
      "text/plain": [
       "19.1672240937939"
      ]
     },
     "execution_count": 6,
     "metadata": {},
     "output_type": "execute_result"
    }
   ],
   "source": [
    "df_train_duration['duration'].mean()"
   ]
  },
  {
   "cell_type": "markdown",
   "id": "7fe34dc0",
   "metadata": {},
   "source": [
    "#### Q3: What's the fractions of missing values for the pickup location ID? I.e. fraction of \"-1\"s after you filled the NAs."
   ]
  },
  {
   "cell_type": "code",
   "execution_count": 7,
   "id": "8c4c3212",
   "metadata": {},
   "outputs": [
    {
     "data": {
      "text/plain": [
       "83.52732770722618"
      ]
     },
     "execution_count": 7,
     "metadata": {},
     "output_type": "execute_result"
    }
   ],
   "source": [
    "pct_missing = len(df_train[df_train['PUlocationID'] == '-1.0']) /  len(df_train) * 100\n",
    "pct_missing"
   ]
  },
  {
   "cell_type": "markdown",
   "id": "db668f7f",
   "metadata": {},
   "source": [
    "#### Q4: Apply one-hot encoding to the pickup and dropoff location IDs. What's the dimensionality of this matrix? (The number of columns)."
   ]
  },
  {
   "cell_type": "code",
   "execution_count": 8,
   "id": "b45232b7",
   "metadata": {},
   "outputs": [
    {
     "data": {
      "text/plain": [
       "525"
      ]
     },
     "execution_count": 8,
     "metadata": {},
     "output_type": "execute_result"
    }
   ],
   "source": [
    "X_train.shape[1]"
   ]
  },
  {
   "cell_type": "markdown",
   "id": "05a8e381",
   "metadata": {},
   "source": [
    "#### Q5: What's the RMSE on train?"
   ]
  },
  {
   "cell_type": "code",
   "execution_count": 9,
   "id": "b7ccb96e",
   "metadata": {},
   "outputs": [
    {
     "data": {
      "text/plain": [
       "10.528519107206316"
      ]
     },
     "execution_count": 9,
     "metadata": {},
     "output_type": "execute_result"
    }
   ],
   "source": [
    "rmse_train"
   ]
  },
  {
   "cell_type": "markdown",
   "id": "f5194a54",
   "metadata": {},
   "source": [
    "#### Q6: What's the RMSE on validation?"
   ]
  },
  {
   "cell_type": "code",
   "execution_count": 10,
   "id": "9cea088a",
   "metadata": {},
   "outputs": [
    {
     "data": {
      "text/plain": [
       "11.014283149347039"
      ]
     },
     "execution_count": 10,
     "metadata": {},
     "output_type": "execute_result"
    }
   ],
   "source": [
    "rmse_val"
   ]
  }
 ],
 "metadata": {
  "interpreter": {
   "hash": "ca8b67708506e0f0ab246a00da702256fac11afd0fd3d01fc516702c31edcb24"
  },
  "kernelspec": {
   "display_name": "Python 3.9.12 ('base')",
   "language": "python",
   "name": "python3"
  },
  "language_info": {
   "codemirror_mode": {
    "name": "ipython",
    "version": 3
   },
   "file_extension": ".py",
   "mimetype": "text/x-python",
   "name": "python",
   "nbconvert_exporter": "python",
   "pygments_lexer": "ipython3",
   "version": "3.9.12"
  }
 },
 "nbformat": 4,
 "nbformat_minor": 5
}
